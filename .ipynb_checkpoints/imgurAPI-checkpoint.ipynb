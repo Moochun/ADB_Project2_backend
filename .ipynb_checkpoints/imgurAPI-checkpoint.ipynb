{
 "cells": [
  {
   "cell_type": "code",
   "execution_count": 42,
   "metadata": {
    "collapsed": false,
    "scrolled": true
   },
   "outputs": [
    {
     "name": "stdout",
     "output_type": "stream",
     "text": [
      "Imgur ERROR message: User request limit exceeded\n",
      "------------------------------------------------\n",
      "429 Client Error:  for url: https://api.imgur.com/3/image\n",
      "Imgur ERROR message: User request limit exceeded\n",
      "------------------------------------------------\n",
      "429 Client Error:  for url: https://api.imgur.com/3/image\n"
     ]
    },
    {
     "ename": "KeyboardInterrupt",
     "evalue": "",
     "output_type": "error",
     "traceback": [
      "\u001b[1;31m---------------------------------------------------------------------------\u001b[0m",
      "\u001b[1;31mKeyboardInterrupt\u001b[0m                         Traceback (most recent call last)",
      "\u001b[1;32m<ipython-input-42-0aff020b2147>\u001b[0m in \u001b[0;36m<module>\u001b[1;34m()\u001b[0m\n\u001b[0;32m     18\u001b[0m             \u001b[1;32mexcept\u001b[0m \u001b[0mException\u001b[0m \u001b[1;32mas\u001b[0m \u001b[0me\u001b[0m\u001b[1;33m:\u001b[0m\u001b[1;33m\u001b[0m\u001b[0m\n\u001b[0;32m     19\u001b[0m                 \u001b[1;32mprint\u001b[0m \u001b[0me\u001b[0m\u001b[1;33m\u001b[0m\u001b[0m\n\u001b[1;32m---> 20\u001b[1;33m                 \u001b[0mtime\u001b[0m\u001b[1;33m.\u001b[0m\u001b[0msleep\u001b[0m\u001b[1;33m(\u001b[0m\u001b[1;36m10\u001b[0m\u001b[1;33m)\u001b[0m\u001b[1;33m\u001b[0m\u001b[0m\n\u001b[0m\u001b[0;32m     21\u001b[0m \u001b[1;33m\u001b[0m\u001b[0m\n\u001b[0;32m     22\u001b[0m \u001b[1;33m\u001b[0m\u001b[0m\n",
      "\u001b[1;31mKeyboardInterrupt\u001b[0m: "
     ]
    }
   ],
   "source": [
    "import pyimgur\n",
    "import MySQLdb\n",
    "import time\n",
    "CLIENT_ID = \"d393d19c9d9893b\"\n",
    "im = pyimgur.Imgur(CLIENT_ID)\n",
    "db = MySQLdb.connect(host=\"140.119.19.19\", user=\"adb\", passwd=\"abc123\", db=\"watchmen\")\n",
    "cursor= db.cursor()\n",
    "columnList=[\"MID\",\"NAME\",\"IMAGE\"]\n",
    "cursor.execute(\"SELECT MID,NAME,IMAGE FROM Movie\")\n",
    "row=cursor.fetchall()\n",
    "for r in row:\n",
    "    if \"media-imdb\" in r[2]:\n",
    "        while True:\n",
    "            try:\n",
    "                uploaded_image = im.upload_image(url=r[2],title=r[1])\n",
    "                image = im.get_image(uploaded_image.id)\n",
    "                break\n",
    "            except Exception as e:\n",
    "                print e\n",
    "                time.sleep(10)\n",
    "        \n",
    "        \n",
    "        print r[2]+\"|->\"+image.link\n",
    "        cursor.execute(\"UPDATE Movie SET IMAGE='{0}' WHERE MID={1}\".format(image.link,r[0]))\n",
    "        db.commit()\n",
    "    \n",
    "print \"OKOKOKOK\"\n",
    "db.close()\n",
    "    "
   ]
  },
  {
   "cell_type": "code",
   "execution_count": 38,
   "metadata": {
    "collapsed": false
   },
   "outputs": [
    {
     "name": "stdout",
     "output_type": "stream",
     "text": [
      "ok\n"
     ]
    }
   ],
   "source": [
    "if \"media-imdb\" in r[2]:\n",
    "    print \"ok\""
   ]
  }
 ],
 "metadata": {
  "kernelspec": {
   "display_name": "Python 2",
   "language": "python",
   "name": "python2"
  },
  "language_info": {
   "codemirror_mode": {
    "name": "ipython",
    "version": 2
   },
   "file_extension": ".py",
   "mimetype": "text/x-python",
   "name": "python",
   "nbconvert_exporter": "python",
   "pygments_lexer": "ipython2",
   "version": "2.7.11"
  }
 },
 "nbformat": 4,
 "nbformat_minor": 0
}
